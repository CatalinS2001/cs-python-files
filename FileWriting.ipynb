{
 "cells": [
  {
   "cell_type": "code",
   "execution_count": 19,
   "metadata": {},
   "outputs": [
    {
     "name": "stdout",
     "output_type": "stream",
     "text": [
      "I,Ietorw,**O*Ea,As'tIelif,*I*EI***s'tIyllautcAko,O*A**UA***I***⭐hem,*E**—_—,***💧,*"
     ]
    }
   ],
   "source": [
    "with open (\"fileTest1.txt\") as myFile:\n",
    "    lines = myFile.readlines()\n",
    "    for line in lines:\n",
    "        # print(len(line))\n",
    "        words = line.split(\" \")\n",
    "        # print(words)\n",
    "        for word in words:\n",
    "            print(word[::-1], end= \",\")\n",
    "            for char in word.upper():\n",
    "                if char not in \"AEIOU\":\n",
    "                    print(\"*\", end=\"\")\n",
    "                else:\n",
    "                    print(char,end=\"\")\n",
    "                    \n",
    "        \n"
   ]
  },
  {
   "cell_type": "code",
   "execution_count": null,
   "metadata": {},
   "outputs": [],
   "source": []
  }
 ],
 "metadata": {
  "kernelspec": {
   "display_name": "Python 3",
   "language": "python",
   "name": "python3"
  },
  "language_info": {
   "codemirror_mode": {
    "name": "ipython",
    "version": 3
   },
   "file_extension": ".py",
   "mimetype": "text/x-python",
   "name": "python",
   "nbconvert_exporter": "python",
   "pygments_lexer": "ipython3",
   "version": "3.5.2"
  }
 },
 "nbformat": 4,
 "nbformat_minor": 2
}
